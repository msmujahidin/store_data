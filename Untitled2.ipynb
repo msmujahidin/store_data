{
 "cells": [
  {
   "cell_type": "code",
   "execution_count": null,
   "metadata": {},
   "outputs": [],
   "source": [
    "\"\"\"\n",
    "Python MQTT Subscription client\n",
    "Thomas Varnish (https://github.com/tvarnish), (https://www.instructables.com/member/Tango172)\n",
    "Written for my Instructable - \"How to use MQTT with the Raspberry Pi and ESP8266\"\n",
    "\"\"\"\n",
    "import paho.mqtt.client as mqtt\n",
    "import psycopg2\n",
    "from datetime import datetime\n",
    "global str\n",
    "\n",
    "# Don't forget to change the variables for the MQTT broker!\n",
    "mqtt_username = \"mqtt\"\n",
    "mqtt_password = \"mqtt\"\n",
    "mqtt_topic = \"smartpju\"\n",
    "mqtt_broker_ip = \"mqtt.danova.id\"\n",
    "\n",
    "client = mqtt.Client()\n",
    "# Set the username and password for the MQTT client\n",
    "client.username_pw_set(mqtt_username, mqtt_password)\n",
    "\n",
    "# These functions handle what happens when the MQTT client connects\n",
    "# to the broker, and what happens then the topic receives a message\n",
    "def on_connect(client, userdata, flags, rc):\n",
    "    # rc is the error code returned when connecting to the broker\n",
    "    print (\"Connected!\", str(rc))\n",
    "    \n",
    "    # Once the client has connected to the broker, subscribe to the topic\n",
    "    client.subscribe(mqtt_topic)\n",
    "    \n",
    "def on_message(client, userdata, msg):\n",
    "    data = msg.payload\n",
    "    baru = data.decode()\n",
    "   \n",
    "    print (\"Topic: \", msg.topic + \"\\nMessage: \" + str(baru))\n",
    "    print(data)\n",
    "    x = data.split(\",\")\n",
    "#     print(x)\n",
    "    print(type(x))\n",
    "\n",
    "client.connect(mqtt_broker_ip, 1883)\n",
    "client.on_connect = on_connect\n",
    "client.on_message = on_message\n",
    "\n",
    "# Once everything has been set up, we can (finally) connect to the broker\n",
    "# 1883 is the listener port that the MQTT broker is using\n",
    "\n",
    "\n",
    "# Once we have told the client to connect, let the client object run itself\n",
    "client.loop_forever()\n",
    "client.disconnect()\n",
    "\n"
   ]
  },
  {
   "cell_type": "code",
   "execution_count": null,
   "metadata": {},
   "outputs": [],
   "source": []
  },
  {
   "cell_type": "code",
   "execution_count": null,
   "metadata": {},
   "outputs": [],
   "source": []
  }
 ],
 "metadata": {
  "kernelspec": {
   "display_name": "Python 3",
   "language": "python",
   "name": "python3"
  },
  "language_info": {
   "codemirror_mode": {
    "name": "ipython",
    "version": 3
   },
   "file_extension": ".py",
   "mimetype": "text/x-python",
   "name": "python",
   "nbconvert_exporter": "python",
   "pygments_lexer": "ipython3",
   "version": "3.6.9"
  }
 },
 "nbformat": 4,
 "nbformat_minor": 4
}
