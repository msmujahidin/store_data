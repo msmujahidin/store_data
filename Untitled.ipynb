{
 "cells": [
  {
   "cell_type": "code",
   "execution_count": null,
   "metadata": {},
   "outputs": [],
   "source": [
    "import paho.mqtt.client as mqtt\n",
    "from store_Sensor_Data_to_DB import sensor_Data_Handler"
   ]
  },
  {
   "cell_type": "code",
   "execution_count": null,
   "metadata": {},
   "outputs": [],
   "source": [
    "MQTT_Broker = \"test.mosquitto.org\"\n",
    "MQTT_Port = 1883\n",
    "#Keep_Alive_Interval = 60\n",
    "MQTT_Topic_Tegangan = \"smartpju/tegangan\""
   ]
  },
  {
   "cell_type": "code",
   "execution_count": null,
   "metadata": {},
   "outputs": [],
   "source": []
  },
  {
   "cell_type": "code",
   "execution_count": null,
   "metadata": {},
   "outputs": [],
   "source": [
    "def on_connect(mosq, obj, rc):\n",
    "    mqtt.subscribe(MQTT_Topic_Tegangan, 0)\n",
    "\n",
    "#Save Data into DB Table\n",
    "def on_message(mosq, obj, msg):\n",
    "\t# This is the Master Call for saving MQTT Data into DB\n",
    "\t# For details of \"sensor_Data_Handler\" function please refer \"sensor_data_to_db.py\"\n",
    "\tprint (\"MQTT Data Received...\")\n",
    "\tprint (\"MQTT Topic: \" + msg.topic)\n",
    "\tprint (\"Data: \" + msg.payload)\n",
    "\tsensor_Data_Handler(msg.topic, msg.payload)"
   ]
  },
  {
   "cell_type": "code",
   "execution_count": null,
   "metadata": {},
   "outputs": [],
   "source": [
    "def on_subscribe(mosq, obj, mid, granted_qos):\n",
    "    pass\n",
    "\n",
    "mqttc = mqtt.Client()\n",
    "\n"
   ]
  },
  {
   "cell_type": "code",
   "execution_count": null,
   "metadata": {},
   "outputs": [],
   "source": [
    "mqttc.on_message = on_message\n",
    "mqttc.on_connect = on_connect\n",
    "mqttc.on_subscribe = on_subscribe\n",
    "\n",
    "# Connect\n",
    "mqttc.connect(MQTT_Broker, MQTT_Port)\n",
    "\n",
    "# Continue the network loop\n",
    "mqttc.loop_forever()"
   ]
  },
  {
   "cell_type": "code",
   "execution_count": null,
   "metadata": {},
   "outputs": [],
   "source": []
  }
 ],
 "metadata": {
  "kernelspec": {
   "display_name": "Python 3",
   "language": "python",
   "name": "python3"
  },
  "language_info": {
   "codemirror_mode": {
    "name": "ipython",
    "version": 3
   },
   "file_extension": ".py",
   "mimetype": "text/x-python",
   "name": "python",
   "nbconvert_exporter": "python",
   "pygments_lexer": "ipython3",
   "version": "3.6.9"
  }
 },
 "nbformat": 4,
 "nbformat_minor": 4
}
