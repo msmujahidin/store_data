{
 "cells": [
  {
   "cell_type": "code",
   "execution_count": 3,
   "metadata": {},
   "outputs": [
    {
     "name": "stdout",
     "output_type": "stream",
     "text": [
      "Publishing fake Humidity Value: 90.59...\n"
     ]
    },
    {
     "ename": "NameError",
     "evalue": "name 'MQTT_Topic_Humidity' is not defined",
     "output_type": "error",
     "traceback": [
      "\u001b[0;31m---------------------------------------------------------------------------\u001b[0m",
      "\u001b[0;31mNameError\u001b[0m                                 Traceback (most recent call last)",
      "\u001b[0;32m<ipython-input-3-0a6dd3c7c266>\u001b[0m in \u001b[0;36m<module>\u001b[0;34m\u001b[0m\n\u001b[1;32m     77\u001b[0m \u001b[0;34m\u001b[0m\u001b[0m\n\u001b[1;32m     78\u001b[0m \u001b[0;34m\u001b[0m\u001b[0m\n\u001b[0;32m---> 79\u001b[0;31m \u001b[0mpublish_Fake_Sensor_Values_to_MQTT\u001b[0m\u001b[0;34m(\u001b[0m\u001b[0;34m)\u001b[0m\u001b[0;34m\u001b[0m\u001b[0;34m\u001b[0m\u001b[0m\n\u001b[0m\u001b[1;32m     80\u001b[0m \u001b[0;34m\u001b[0m\u001b[0m\n\u001b[1;32m     81\u001b[0m \u001b[0;31m#====================================================\u001b[0m\u001b[0;34m\u001b[0m\u001b[0;34m\u001b[0m\u001b[0;34m\u001b[0m\u001b[0m\n",
      "\u001b[0;32m<ipython-input-3-0a6dd3c7c266>\u001b[0m in \u001b[0;36mpublish_Fake_Sensor_Values_to_MQTT\u001b[0;34m()\u001b[0m\n\u001b[1;32m     60\u001b[0m \u001b[0;34m\u001b[0m\u001b[0m\n\u001b[1;32m     61\u001b[0m                 \u001b[0mprint\u001b[0m \u001b[0;34m(\u001b[0m\u001b[0;34m\"Publishing fake Humidity Value: \"\u001b[0m \u001b[0;34m+\u001b[0m \u001b[0mstr\u001b[0m\u001b[0;34m(\u001b[0m\u001b[0mHumidity_Fake_Value\u001b[0m\u001b[0;34m)\u001b[0m \u001b[0;34m+\u001b[0m \u001b[0;34m\"...\"\u001b[0m\u001b[0;34m)\u001b[0m\u001b[0;34m\u001b[0m\u001b[0;34m\u001b[0m\u001b[0m\n\u001b[0;32m---> 62\u001b[0;31m                 \u001b[0mpublish_To_Topic\u001b[0m \u001b[0;34m(\u001b[0m\u001b[0mMQTT_Topic_Humidity\u001b[0m\u001b[0;34m,\u001b[0m \u001b[0mhumidity_json_data\u001b[0m\u001b[0;34m)\u001b[0m\u001b[0;34m\u001b[0m\u001b[0;34m\u001b[0m\u001b[0m\n\u001b[0m\u001b[1;32m     63\u001b[0m                 \u001b[0mtoggle\u001b[0m \u001b[0;34m=\u001b[0m \u001b[0;36m1\u001b[0m\u001b[0;34m\u001b[0m\u001b[0;34m\u001b[0m\u001b[0m\n\u001b[1;32m     64\u001b[0m \u001b[0;34m\u001b[0m\u001b[0m\n",
      "\u001b[0;31mNameError\u001b[0m: name 'MQTT_Topic_Humidity' is not defined"
     ]
    },
    {
     "name": "stdout",
     "output_type": "stream",
     "text": [
      "Publishing fake Humidity Value: 50.18...\n"
     ]
    },
    {
     "name": "stderr",
     "output_type": "stream",
     "text": [
      "Exception in thread Thread-4:\n",
      "Traceback (most recent call last):\n",
      "  File \"/usr/lib/python3.6/threading.py\", line 916, in _bootstrap_inner\n",
      "    self.run()\n",
      "  File \"/usr/lib/python3.6/threading.py\", line 1182, in run\n",
      "    self.function(*self.args, **self.kwargs)\n",
      "  File \"<ipython-input-3-0a6dd3c7c266>\", line 62, in publish_Fake_Sensor_Values_to_MQTT\n",
      "    publish_To_Topic (MQTT_Topic_Humidity, humidity_json_data)\n",
      "NameError: name 'MQTT_Topic_Humidity' is not defined\n",
      "\n"
     ]
    },
    {
     "name": "stdout",
     "output_type": "stream",
     "text": [
      "Publishing fake Humidity Value: 86.68...\n"
     ]
    },
    {
     "name": "stderr",
     "output_type": "stream",
     "text": [
      "Exception in thread Thread-5:\n",
      "Traceback (most recent call last):\n",
      "  File \"/usr/lib/python3.6/threading.py\", line 916, in _bootstrap_inner\n",
      "    self.run()\n",
      "  File \"/usr/lib/python3.6/threading.py\", line 1182, in run\n",
      "    self.function(*self.args, **self.kwargs)\n",
      "  File \"<ipython-input-3-0a6dd3c7c266>\", line 62, in publish_Fake_Sensor_Values_to_MQTT\n",
      "    publish_To_Topic (MQTT_Topic_Humidity, humidity_json_data)\n",
      "NameError: name 'MQTT_Topic_Humidity' is not defined\n",
      "\n"
     ]
    },
    {
     "name": "stdout",
     "output_type": "stream",
     "text": [
      "Publishing fake Humidity Value: 61.96...\n"
     ]
    },
    {
     "name": "stderr",
     "output_type": "stream",
     "text": [
      "Exception in thread Thread-6:\n",
      "Traceback (most recent call last):\n",
      "  File \"/usr/lib/python3.6/threading.py\", line 916, in _bootstrap_inner\n",
      "    self.run()\n",
      "  File \"/usr/lib/python3.6/threading.py\", line 1182, in run\n",
      "    self.function(*self.args, **self.kwargs)\n",
      "  File \"<ipython-input-3-0a6dd3c7c266>\", line 62, in publish_Fake_Sensor_Values_to_MQTT\n",
      "    publish_To_Topic (MQTT_Topic_Humidity, humidity_json_data)\n",
      "NameError: name 'MQTT_Topic_Humidity' is not defined\n",
      "\n"
     ]
    },
    {
     "name": "stdout",
     "output_type": "stream",
     "text": [
      "Publishing fake Humidity Value: 90.03...\n"
     ]
    },
    {
     "name": "stderr",
     "output_type": "stream",
     "text": [
      "Exception in thread Thread-7:\n",
      "Traceback (most recent call last):\n",
      "  File \"/usr/lib/python3.6/threading.py\", line 916, in _bootstrap_inner\n",
      "    self.run()\n",
      "  File \"/usr/lib/python3.6/threading.py\", line 1182, in run\n",
      "    self.function(*self.args, **self.kwargs)\n",
      "  File \"<ipython-input-3-0a6dd3c7c266>\", line 62, in publish_Fake_Sensor_Values_to_MQTT\n",
      "    publish_To_Topic (MQTT_Topic_Humidity, humidity_json_data)\n",
      "NameError: name 'MQTT_Topic_Humidity' is not defined\n",
      "\n"
     ]
    },
    {
     "name": "stdout",
     "output_type": "stream",
     "text": [
      "Publishing fake Humidity Value: 61.66...\n"
     ]
    },
    {
     "name": "stderr",
     "output_type": "stream",
     "text": [
      "Exception in thread Thread-8:\n",
      "Traceback (most recent call last):\n",
      "  File \"/usr/lib/python3.6/threading.py\", line 916, in _bootstrap_inner\n",
      "    self.run()\n",
      "  File \"/usr/lib/python3.6/threading.py\", line 1182, in run\n",
      "    self.function(*self.args, **self.kwargs)\n",
      "  File \"<ipython-input-3-0a6dd3c7c266>\", line 62, in publish_Fake_Sensor_Values_to_MQTT\n",
      "    publish_To_Topic (MQTT_Topic_Humidity, humidity_json_data)\n",
      "NameError: name 'MQTT_Topic_Humidity' is not defined\n",
      "\n"
     ]
    },
    {
     "name": "stdout",
     "output_type": "stream",
     "text": [
      "Publishing fake Humidity Value: 57.4...\n"
     ]
    },
    {
     "name": "stderr",
     "output_type": "stream",
     "text": [
      "Exception in thread Thread-9:\n",
      "Traceback (most recent call last):\n",
      "  File \"/usr/lib/python3.6/threading.py\", line 916, in _bootstrap_inner\n",
      "    self.run()\n",
      "  File \"/usr/lib/python3.6/threading.py\", line 1182, in run\n",
      "    self.function(*self.args, **self.kwargs)\n",
      "  File \"<ipython-input-3-0a6dd3c7c266>\", line 62, in publish_Fake_Sensor_Values_to_MQTT\n",
      "    publish_To_Topic (MQTT_Topic_Humidity, humidity_json_data)\n",
      "NameError: name 'MQTT_Topic_Humidity' is not defined\n",
      "\n"
     ]
    },
    {
     "name": "stdout",
     "output_type": "stream",
     "text": [
      "Publishing fake Humidity Value: 88.08...\n"
     ]
    },
    {
     "name": "stderr",
     "output_type": "stream",
     "text": [
      "Exception in thread Thread-10:\n",
      "Traceback (most recent call last):\n",
      "  File \"/usr/lib/python3.6/threading.py\", line 916, in _bootstrap_inner\n",
      "    self.run()\n",
      "  File \"/usr/lib/python3.6/threading.py\", line 1182, in run\n",
      "    self.function(*self.args, **self.kwargs)\n",
      "  File \"<ipython-input-3-0a6dd3c7c266>\", line 62, in publish_Fake_Sensor_Values_to_MQTT\n",
      "    publish_To_Topic (MQTT_Topic_Humidity, humidity_json_data)\n",
      "NameError: name 'MQTT_Topic_Humidity' is not defined\n",
      "\n"
     ]
    },
    {
     "name": "stdout",
     "output_type": "stream",
     "text": [
      "Publishing fake Humidity Value: 53.84...\n"
     ]
    },
    {
     "name": "stderr",
     "output_type": "stream",
     "text": [
      "Exception in thread Thread-11:\n",
      "Traceback (most recent call last):\n",
      "  File \"/usr/lib/python3.6/threading.py\", line 916, in _bootstrap_inner\n",
      "    self.run()\n",
      "  File \"/usr/lib/python3.6/threading.py\", line 1182, in run\n",
      "    self.function(*self.args, **self.kwargs)\n",
      "  File \"<ipython-input-3-0a6dd3c7c266>\", line 62, in publish_Fake_Sensor_Values_to_MQTT\n",
      "    publish_To_Topic (MQTT_Topic_Humidity, humidity_json_data)\n",
      "NameError: name 'MQTT_Topic_Humidity' is not defined\n",
      "\n"
     ]
    },
    {
     "name": "stdout",
     "output_type": "stream",
     "text": [
      "Publishing fake Humidity Value: 95.87...\n"
     ]
    },
    {
     "name": "stderr",
     "output_type": "stream",
     "text": [
      "Exception in thread Thread-12:\n",
      "Traceback (most recent call last):\n",
      "  File \"/usr/lib/python3.6/threading.py\", line 916, in _bootstrap_inner\n",
      "    self.run()\n",
      "  File \"/usr/lib/python3.6/threading.py\", line 1182, in run\n",
      "    self.function(*self.args, **self.kwargs)\n",
      "  File \"<ipython-input-3-0a6dd3c7c266>\", line 62, in publish_Fake_Sensor_Values_to_MQTT\n",
      "    publish_To_Topic (MQTT_Topic_Humidity, humidity_json_data)\n",
      "NameError: name 'MQTT_Topic_Humidity' is not defined\n",
      "\n"
     ]
    },
    {
     "name": "stdout",
     "output_type": "stream",
     "text": [
      "Publishing fake Humidity Value: 65.64...\n"
     ]
    },
    {
     "name": "stderr",
     "output_type": "stream",
     "text": [
      "Exception in thread Thread-13:\n",
      "Traceback (most recent call last):\n",
      "  File \"/usr/lib/python3.6/threading.py\", line 916, in _bootstrap_inner\n",
      "    self.run()\n",
      "  File \"/usr/lib/python3.6/threading.py\", line 1182, in run\n",
      "    self.function(*self.args, **self.kwargs)\n",
      "  File \"<ipython-input-3-0a6dd3c7c266>\", line 62, in publish_Fake_Sensor_Values_to_MQTT\n",
      "    publish_To_Topic (MQTT_Topic_Humidity, humidity_json_data)\n",
      "NameError: name 'MQTT_Topic_Humidity' is not defined\n",
      "\n"
     ]
    },
    {
     "name": "stdout",
     "output_type": "stream",
     "text": [
      "Publishing fake Humidity Value: 97.68...\n"
     ]
    },
    {
     "name": "stderr",
     "output_type": "stream",
     "text": [
      "Exception in thread Thread-14:\n",
      "Traceback (most recent call last):\n",
      "  File \"/usr/lib/python3.6/threading.py\", line 916, in _bootstrap_inner\n",
      "    self.run()\n",
      "  File \"/usr/lib/python3.6/threading.py\", line 1182, in run\n",
      "    self.function(*self.args, **self.kwargs)\n",
      "  File \"<ipython-input-3-0a6dd3c7c266>\", line 62, in publish_Fake_Sensor_Values_to_MQTT\n",
      "    publish_To_Topic (MQTT_Topic_Humidity, humidity_json_data)\n",
      "NameError: name 'MQTT_Topic_Humidity' is not defined\n",
      "\n"
     ]
    },
    {
     "name": "stdout",
     "output_type": "stream",
     "text": [
      "Publishing fake Humidity Value: 69.48...\n"
     ]
    },
    {
     "name": "stderr",
     "output_type": "stream",
     "text": [
      "Exception in thread Thread-15:\n",
      "Traceback (most recent call last):\n",
      "  File \"/usr/lib/python3.6/threading.py\", line 916, in _bootstrap_inner\n",
      "    self.run()\n",
      "  File \"/usr/lib/python3.6/threading.py\", line 1182, in run\n",
      "    self.function(*self.args, **self.kwargs)\n",
      "  File \"<ipython-input-3-0a6dd3c7c266>\", line 62, in publish_Fake_Sensor_Values_to_MQTT\n",
      "    publish_To_Topic (MQTT_Topic_Humidity, humidity_json_data)\n",
      "NameError: name 'MQTT_Topic_Humidity' is not defined\n",
      "\n"
     ]
    },
    {
     "name": "stdout",
     "output_type": "stream",
     "text": [
      "Publishing fake Humidity Value: 62.29...\n"
     ]
    },
    {
     "name": "stderr",
     "output_type": "stream",
     "text": [
      "Exception in thread Thread-16:\n",
      "Traceback (most recent call last):\n",
      "  File \"/usr/lib/python3.6/threading.py\", line 916, in _bootstrap_inner\n",
      "    self.run()\n",
      "  File \"/usr/lib/python3.6/threading.py\", line 1182, in run\n",
      "    self.function(*self.args, **self.kwargs)\n",
      "  File \"<ipython-input-3-0a6dd3c7c266>\", line 62, in publish_Fake_Sensor_Values_to_MQTT\n",
      "    publish_To_Topic (MQTT_Topic_Humidity, humidity_json_data)\n",
      "NameError: name 'MQTT_Topic_Humidity' is not defined\n",
      "\n"
     ]
    },
    {
     "name": "stdout",
     "output_type": "stream",
     "text": [
      "Publishing fake Humidity Value: 71.7...\n"
     ]
    },
    {
     "name": "stderr",
     "output_type": "stream",
     "text": [
      "Exception in thread Thread-17:\n",
      "Traceback (most recent call last):\n",
      "  File \"/usr/lib/python3.6/threading.py\", line 916, in _bootstrap_inner\n",
      "    self.run()\n",
      "  File \"/usr/lib/python3.6/threading.py\", line 1182, in run\n",
      "    self.function(*self.args, **self.kwargs)\n",
      "  File \"<ipython-input-3-0a6dd3c7c266>\", line 62, in publish_Fake_Sensor_Values_to_MQTT\n",
      "    publish_To_Topic (MQTT_Topic_Humidity, humidity_json_data)\n",
      "NameError: name 'MQTT_Topic_Humidity' is not defined\n",
      "\n"
     ]
    },
    {
     "name": "stdout",
     "output_type": "stream",
     "text": [
      "Publishing fake Humidity Value: 57.63...\n"
     ]
    },
    {
     "name": "stderr",
     "output_type": "stream",
     "text": [
      "Exception in thread Thread-18:\n",
      "Traceback (most recent call last):\n",
      "  File \"/usr/lib/python3.6/threading.py\", line 916, in _bootstrap_inner\n",
      "    self.run()\n",
      "  File \"/usr/lib/python3.6/threading.py\", line 1182, in run\n",
      "    self.function(*self.args, **self.kwargs)\n",
      "  File \"<ipython-input-3-0a6dd3c7c266>\", line 62, in publish_Fake_Sensor_Values_to_MQTT\n",
      "    publish_To_Topic (MQTT_Topic_Humidity, humidity_json_data)\n",
      "NameError: name 'MQTT_Topic_Humidity' is not defined\n",
      "\n"
     ]
    },
    {
     "name": "stdout",
     "output_type": "stream",
     "text": [
      "Publishing fake Humidity Value: 96.03...\n"
     ]
    },
    {
     "name": "stderr",
     "output_type": "stream",
     "text": [
      "Exception in thread Thread-19:\n",
      "Traceback (most recent call last):\n",
      "  File \"/usr/lib/python3.6/threading.py\", line 916, in _bootstrap_inner\n",
      "    self.run()\n",
      "  File \"/usr/lib/python3.6/threading.py\", line 1182, in run\n",
      "    self.function(*self.args, **self.kwargs)\n",
      "  File \"<ipython-input-3-0a6dd3c7c266>\", line 62, in publish_Fake_Sensor_Values_to_MQTT\n",
      "    publish_To_Topic (MQTT_Topic_Humidity, humidity_json_data)\n",
      "NameError: name 'MQTT_Topic_Humidity' is not defined\n",
      "\n"
     ]
    },
    {
     "name": "stdout",
     "output_type": "stream",
     "text": [
      "Publishing fake Humidity Value: 97.39...\n"
     ]
    },
    {
     "name": "stderr",
     "output_type": "stream",
     "text": [
      "Exception in thread Thread-20:\n",
      "Traceback (most recent call last):\n",
      "  File \"/usr/lib/python3.6/threading.py\", line 916, in _bootstrap_inner\n",
      "    self.run()\n",
      "  File \"/usr/lib/python3.6/threading.py\", line 1182, in run\n",
      "    self.function(*self.args, **self.kwargs)\n",
      "  File \"<ipython-input-3-0a6dd3c7c266>\", line 62, in publish_Fake_Sensor_Values_to_MQTT\n",
      "    publish_To_Topic (MQTT_Topic_Humidity, humidity_json_data)\n",
      "NameError: name 'MQTT_Topic_Humidity' is not defined\n",
      "\n"
     ]
    },
    {
     "name": "stdout",
     "output_type": "stream",
     "text": [
      "Publishing fake Humidity Value: 94.7...\n"
     ]
    },
    {
     "name": "stderr",
     "output_type": "stream",
     "text": [
      "Exception in thread Thread-21:\n",
      "Traceback (most recent call last):\n",
      "  File \"/usr/lib/python3.6/threading.py\", line 916, in _bootstrap_inner\n",
      "    self.run()\n",
      "  File \"/usr/lib/python3.6/threading.py\", line 1182, in run\n",
      "    self.function(*self.args, **self.kwargs)\n",
      "  File \"<ipython-input-3-0a6dd3c7c266>\", line 62, in publish_Fake_Sensor_Values_to_MQTT\n",
      "    publish_To_Topic (MQTT_Topic_Humidity, humidity_json_data)\n",
      "NameError: name 'MQTT_Topic_Humidity' is not defined\n",
      "\n"
     ]
    },
    {
     "name": "stdout",
     "output_type": "stream",
     "text": [
      "Publishing fake Humidity Value: 96.84...\n"
     ]
    },
    {
     "name": "stderr",
     "output_type": "stream",
     "text": [
      "Exception in thread Thread-22:\n",
      "Traceback (most recent call last):\n",
      "  File \"/usr/lib/python3.6/threading.py\", line 916, in _bootstrap_inner\n",
      "    self.run()\n",
      "  File \"/usr/lib/python3.6/threading.py\", line 1182, in run\n",
      "    self.function(*self.args, **self.kwargs)\n",
      "  File \"<ipython-input-3-0a6dd3c7c266>\", line 62, in publish_Fake_Sensor_Values_to_MQTT\n",
      "    publish_To_Topic (MQTT_Topic_Humidity, humidity_json_data)\n",
      "NameError: name 'MQTT_Topic_Humidity' is not defined\n",
      "\n"
     ]
    },
    {
     "name": "stdout",
     "output_type": "stream",
     "text": [
      "Publishing fake Humidity Value: 93.38...\n"
     ]
    },
    {
     "name": "stderr",
     "output_type": "stream",
     "text": [
      "Exception in thread Thread-23:\n",
      "Traceback (most recent call last):\n",
      "  File \"/usr/lib/python3.6/threading.py\", line 916, in _bootstrap_inner\n",
      "    self.run()\n",
      "  File \"/usr/lib/python3.6/threading.py\", line 1182, in run\n",
      "    self.function(*self.args, **self.kwargs)\n",
      "  File \"<ipython-input-3-0a6dd3c7c266>\", line 62, in publish_Fake_Sensor_Values_to_MQTT\n",
      "    publish_To_Topic (MQTT_Topic_Humidity, humidity_json_data)\n",
      "NameError: name 'MQTT_Topic_Humidity' is not defined\n",
      "\n"
     ]
    },
    {
     "name": "stdout",
     "output_type": "stream",
     "text": [
      "Publishing fake Humidity Value: 81.88...\n"
     ]
    },
    {
     "name": "stderr",
     "output_type": "stream",
     "text": [
      "Exception in thread Thread-24:\n",
      "Traceback (most recent call last):\n",
      "  File \"/usr/lib/python3.6/threading.py\", line 916, in _bootstrap_inner\n",
      "    self.run()\n",
      "  File \"/usr/lib/python3.6/threading.py\", line 1182, in run\n",
      "    self.function(*self.args, **self.kwargs)\n",
      "  File \"<ipython-input-3-0a6dd3c7c266>\", line 62, in publish_Fake_Sensor_Values_to_MQTT\n",
      "    publish_To_Topic (MQTT_Topic_Humidity, humidity_json_data)\n",
      "NameError: name 'MQTT_Topic_Humidity' is not defined\n",
      "\n"
     ]
    },
    {
     "name": "stdout",
     "output_type": "stream",
     "text": [
      "Publishing fake Humidity Value: 79.98...\n"
     ]
    },
    {
     "name": "stderr",
     "output_type": "stream",
     "text": [
      "Exception in thread Thread-25:\n",
      "Traceback (most recent call last):\n",
      "  File \"/usr/lib/python3.6/threading.py\", line 916, in _bootstrap_inner\n",
      "    self.run()\n",
      "  File \"/usr/lib/python3.6/threading.py\", line 1182, in run\n",
      "    self.function(*self.args, **self.kwargs)\n",
      "  File \"<ipython-input-3-0a6dd3c7c266>\", line 62, in publish_Fake_Sensor_Values_to_MQTT\n",
      "    publish_To_Topic (MQTT_Topic_Humidity, humidity_json_data)\n",
      "NameError: name 'MQTT_Topic_Humidity' is not defined\n",
      "\n"
     ]
    },
    {
     "name": "stdout",
     "output_type": "stream",
     "text": [
      "Publishing fake Humidity Value: 61.04...\n"
     ]
    },
    {
     "name": "stderr",
     "output_type": "stream",
     "text": [
      "Exception in thread Thread-26:\n",
      "Traceback (most recent call last):\n",
      "  File \"/usr/lib/python3.6/threading.py\", line 916, in _bootstrap_inner\n",
      "    self.run()\n",
      "  File \"/usr/lib/python3.6/threading.py\", line 1182, in run\n",
      "    self.function(*self.args, **self.kwargs)\n",
      "  File \"<ipython-input-3-0a6dd3c7c266>\", line 62, in publish_Fake_Sensor_Values_to_MQTT\n",
      "    publish_To_Topic (MQTT_Topic_Humidity, humidity_json_data)\n",
      "NameError: name 'MQTT_Topic_Humidity' is not defined\n",
      "\n"
     ]
    },
    {
     "name": "stdout",
     "output_type": "stream",
     "text": [
      "Publishing fake Humidity Value: 59.51...\n"
     ]
    },
    {
     "name": "stderr",
     "output_type": "stream",
     "text": [
      "Exception in thread Thread-27:\n",
      "Traceback (most recent call last):\n",
      "  File \"/usr/lib/python3.6/threading.py\", line 916, in _bootstrap_inner\n",
      "    self.run()\n",
      "  File \"/usr/lib/python3.6/threading.py\", line 1182, in run\n",
      "    self.function(*self.args, **self.kwargs)\n",
      "  File \"<ipython-input-3-0a6dd3c7c266>\", line 62, in publish_Fake_Sensor_Values_to_MQTT\n",
      "    publish_To_Topic (MQTT_Topic_Humidity, humidity_json_data)\n",
      "NameError: name 'MQTT_Topic_Humidity' is not defined\n",
      "\n"
     ]
    },
    {
     "name": "stdout",
     "output_type": "stream",
     "text": [
      "Publishing fake Humidity Value: 65.22...\n"
     ]
    },
    {
     "name": "stderr",
     "output_type": "stream",
     "text": [
      "Exception in thread Thread-28:\n",
      "Traceback (most recent call last):\n",
      "  File \"/usr/lib/python3.6/threading.py\", line 916, in _bootstrap_inner\n",
      "    self.run()\n",
      "  File \"/usr/lib/python3.6/threading.py\", line 1182, in run\n",
      "    self.function(*self.args, **self.kwargs)\n",
      "  File \"<ipython-input-3-0a6dd3c7c266>\", line 62, in publish_Fake_Sensor_Values_to_MQTT\n",
      "    publish_To_Topic (MQTT_Topic_Humidity, humidity_json_data)\n",
      "NameError: name 'MQTT_Topic_Humidity' is not defined\n",
      "\n"
     ]
    },
    {
     "name": "stdout",
     "output_type": "stream",
     "text": [
      "Publishing fake Humidity Value: 97.98...\n"
     ]
    },
    {
     "name": "stderr",
     "output_type": "stream",
     "text": [
      "Exception in thread Thread-29:\n",
      "Traceback (most recent call last):\n",
      "  File \"/usr/lib/python3.6/threading.py\", line 916, in _bootstrap_inner\n",
      "    self.run()\n",
      "  File \"/usr/lib/python3.6/threading.py\", line 1182, in run\n",
      "    self.function(*self.args, **self.kwargs)\n",
      "  File \"<ipython-input-3-0a6dd3c7c266>\", line 62, in publish_Fake_Sensor_Values_to_MQTT\n",
      "    publish_To_Topic (MQTT_Topic_Humidity, humidity_json_data)\n",
      "NameError: name 'MQTT_Topic_Humidity' is not defined\n",
      "\n"
     ]
    },
    {
     "name": "stdout",
     "output_type": "stream",
     "text": [
      "Publishing fake Humidity Value: 79.34...\n"
     ]
    },
    {
     "name": "stderr",
     "output_type": "stream",
     "text": [
      "Exception in thread Thread-30:\n",
      "Traceback (most recent call last):\n",
      "  File \"/usr/lib/python3.6/threading.py\", line 916, in _bootstrap_inner\n",
      "    self.run()\n",
      "  File \"/usr/lib/python3.6/threading.py\", line 1182, in run\n",
      "    self.function(*self.args, **self.kwargs)\n",
      "  File \"<ipython-input-3-0a6dd3c7c266>\", line 62, in publish_Fake_Sensor_Values_to_MQTT\n",
      "    publish_To_Topic (MQTT_Topic_Humidity, humidity_json_data)\n",
      "NameError: name 'MQTT_Topic_Humidity' is not defined\n",
      "\n"
     ]
    },
    {
     "name": "stdout",
     "output_type": "stream",
     "text": [
      "Publishing fake Humidity Value: 63.14...\n"
     ]
    },
    {
     "name": "stderr",
     "output_type": "stream",
     "text": [
      "Exception in thread Thread-31:\n",
      "Traceback (most recent call last):\n",
      "  File \"/usr/lib/python3.6/threading.py\", line 916, in _bootstrap_inner\n",
      "    self.run()\n",
      "  File \"/usr/lib/python3.6/threading.py\", line 1182, in run\n",
      "    self.function(*self.args, **self.kwargs)\n",
      "  File \"<ipython-input-3-0a6dd3c7c266>\", line 62, in publish_Fake_Sensor_Values_to_MQTT\n",
      "    publish_To_Topic (MQTT_Topic_Humidity, humidity_json_data)\n",
      "NameError: name 'MQTT_Topic_Humidity' is not defined\n",
      "\n"
     ]
    },
    {
     "name": "stdout",
     "output_type": "stream",
     "text": [
      "Publishing fake Humidity Value: 92.66...\n"
     ]
    },
    {
     "name": "stderr",
     "output_type": "stream",
     "text": [
      "Exception in thread Thread-32:\n",
      "Traceback (most recent call last):\n",
      "  File \"/usr/lib/python3.6/threading.py\", line 916, in _bootstrap_inner\n",
      "    self.run()\n",
      "  File \"/usr/lib/python3.6/threading.py\", line 1182, in run\n",
      "    self.function(*self.args, **self.kwargs)\n",
      "  File \"<ipython-input-3-0a6dd3c7c266>\", line 62, in publish_Fake_Sensor_Values_to_MQTT\n",
      "    publish_To_Topic (MQTT_Topic_Humidity, humidity_json_data)\n",
      "NameError: name 'MQTT_Topic_Humidity' is not defined\n",
      "\n"
     ]
    },
    {
     "name": "stdout",
     "output_type": "stream",
     "text": [
      "Publishing fake Humidity Value: 79.42...\n"
     ]
    },
    {
     "name": "stderr",
     "output_type": "stream",
     "text": [
      "Exception in thread Thread-33:\n",
      "Traceback (most recent call last):\n",
      "  File \"/usr/lib/python3.6/threading.py\", line 916, in _bootstrap_inner\n",
      "    self.run()\n",
      "  File \"/usr/lib/python3.6/threading.py\", line 1182, in run\n",
      "    self.function(*self.args, **self.kwargs)\n",
      "  File \"<ipython-input-3-0a6dd3c7c266>\", line 62, in publish_Fake_Sensor_Values_to_MQTT\n",
      "    publish_To_Topic (MQTT_Topic_Humidity, humidity_json_data)\n",
      "NameError: name 'MQTT_Topic_Humidity' is not defined\n",
      "\n"
     ]
    }
   ],
   "source": [
    "import paho.mqtt.client as mqtt\n",
    "import random, threading, json\n",
    "from datetime import datetime\n",
    "\n",
    "#====================================================\n",
    "# MQTT Settings \n",
    "MQTT_Broker = \"mqtt.danova.id\"\n",
    "MQTT_Port = 5432\n",
    "#Keep_Alive_Interval = 60\n",
    "MQTT_Topic_Tegangan = \"baru/jos\"\n",
    "MQTT_Topic_Arus = \"smartpju/data3\"\n",
    "\n",
    "#====================================================\n",
    "\n",
    "def on_connect(client, userdata, rc):\n",
    "\tif rc != 0:\n",
    "\t\tpass\n",
    "\t\tprint (\"Unable to connect to MQTT Broker...\")\n",
    "\telse:\n",
    "\t\tprint (\"Connected with MQTT Broker: \" + str(MQTT_Broker))\n",
    "\n",
    "def on_publish(client, userdata, mid):\n",
    "\tpass\n",
    "\t\t\n",
    "def on_disconnect(client, userdata, rc):\n",
    "\tif rc !=0:\n",
    "\t\tpass\n",
    "\t\t\n",
    "mqttc = mqtt.Client()\n",
    "mqttc.on_connect = on_connect\n",
    "mqttc.on_disconnect = on_disconnect\n",
    "mqttc.on_publish = on_publish\n",
    "mqttc.connect(MQTT_Broker, int(MQTT_Port))\t\t\n",
    "\n",
    "\t\t\n",
    "def publish_To_Topic(topic, message):\n",
    "\tmqttc.publish(topic,message)\n",
    "\tprint (\"Published: \" + str(message) + \" \" + \"on MQTT Topic: \" + str(topic))\n",
    "\tprint (\"\")\n",
    "\n",
    "\n",
    "#====================================================\n",
    "# FAKE SENSOR \n",
    "# Dummy code used as Fake Sensor to publish some random values\n",
    "# to MQTT Broker\n",
    "\n",
    "toggle = 0\n",
    "\n",
    "def publish_Fake_Sensor_Values_to_MQTT():\n",
    "\tthreading.Timer(3.0, publish_Fake_Sensor_Values_to_MQTT).start()\n",
    "\tglobal toggle\n",
    "\tif toggle == 0:\n",
    "\t\tHumidity_Fake_Value = float(\"{0:.2f}\".format(random.uniform(50, 100)))\n",
    "\n",
    "\t\tHumidity_Data = {}\n",
    "\t\tHumidity_Data['Sensor_ID'] = \"Dummy-1\"\n",
    "\t\tHumidity_Data['Date'] = (datetime.today()).strftime(\"%d-%b-%Y %H:%M:%S:%f\")\n",
    "\t\tHumidity_Data['Humidity'] = Humidity_Fake_Value\n",
    "\t\thumidity_json_data = json.dumps(Humidity_Data)\n",
    "\n",
    "\t\tprint (\"Publishing fake Humidity Value: \" + str(Humidity_Fake_Value) + \"...\")\n",
    "\t\tpublish_To_Topic (MQTT_Topic_Tegangan, humidity_json_data)\n",
    "\t\ttoggle = 1\n",
    "\n",
    "\telse:\n",
    "\t\tTemperature_Fake_Value = float(\"{0:.2f}\".format(random.uniform(1, 30)))\n",
    "\n",
    "\t\tTemperature_Data = {}\n",
    "\t\tTemperature_Data['Sensor_ID'] = \"Dummy-2\"\n",
    "\t\tTemperature_Data['Date'] = (datetime.today()).strftime(\"%d-%b-%Y %H:%M:%S:%f\")\n",
    "\t\tTemperature_Data['Temperature'] = Temperature_Fake_Value\n",
    "\t\ttemperature_json_data = json.dumps(Temperature_Data)\n",
    "\n",
    "\t\tprint (\"Publishing fake Temperature Value: \" + str(Temperature_Fake_Value) + \"...\")\n",
    "\t\tpublish_To_Topic (MQTT_Topic_Arus, temperature_json_data)\n",
    "\t\ttoggle = 0\n",
    "\n",
    "\n",
    "publish_Fake_Sensor_Values_to_MQTT()\n",
    "\n",
    "#====================================================\n"
   ]
  },
  {
   "cell_type": "code",
   "execution_count": 20,
   "metadata": {},
   "outputs": [],
   "source": [
    "import requests"
   ]
  },
  {
   "cell_type": "code",
   "execution_count": 21,
   "metadata": {},
   "outputs": [],
   "source": [
    "URL = \"http://maps.googleapis.com/maps/api/geocode/json\""
   ]
  },
  {
   "cell_type": "code",
   "execution_count": 24,
   "metadata": {},
   "outputs": [],
   "source": [
    "\n"
   ]
  },
  {
   "cell_type": "code",
   "execution_count": 25,
   "metadata": {},
   "outputs": [
    {
     "name": "stdout",
     "output_type": "stream",
     "text": [
      "{'address': 'delhi technological university'}\n"
     ]
    }
   ],
   "source": [
    "print(PARAMS)"
   ]
  },
  {
   "cell_type": "code",
   "execution_count": 26,
   "metadata": {},
   "outputs": [],
   "source": [
    "r = requests.get(url = URL, params = PARAMS) "
   ]
  },
  {
   "cell_type": "code",
   "execution_count": 27,
   "metadata": {},
   "outputs": [
    {
     "name": "stdout",
     "output_type": "stream",
     "text": [
      "{'error_message': 'You must use an API key to authenticate each request to Google Maps Platform APIs. For additional information, please refer to http://g.co/dev/maps-no-account', 'results': [], 'status': 'REQUEST_DENIED'}\n"
     ]
    }
   ],
   "source": [
    "data = r.json()\n",
    "print(data)"
   ]
  },
  {
   "cell_type": "code",
   "execution_count": null,
   "metadata": {},
   "outputs": [],
   "source": []
  },
  {
   "cell_type": "code",
   "execution_count": 1,
   "metadata": {},
   "outputs": [
    {
     "ename": "NameError",
     "evalue": "name 'Humadity_Data' is not defined",
     "output_type": "error",
     "traceback": [
      "\u001b[0;31m---------------------------------------------------------------------------\u001b[0m",
      "\u001b[0;31mNameError\u001b[0m                                 Traceback (most recent call last)",
      "\u001b[0;32m<ipython-input-1-36b12b5b4f8a>\u001b[0m in \u001b[0;36m<module>\u001b[0;34m\u001b[0m\n\u001b[1;32m    104\u001b[0m \u001b[0;34m\u001b[0m\u001b[0m\n\u001b[1;32m    105\u001b[0m \u001b[0;34m\u001b[0m\u001b[0m\n\u001b[0;32m--> 106\u001b[0;31m \u001b[0mpublish_Fake_Sensor_Values_to_MQTT\u001b[0m\u001b[0;34m(\u001b[0m\u001b[0;34m)\u001b[0m\u001b[0;34m\u001b[0m\u001b[0;34m\u001b[0m\u001b[0m\n\u001b[0m\u001b[1;32m    107\u001b[0m \u001b[0;34m\u001b[0m\u001b[0m\n\u001b[1;32m    108\u001b[0m \u001b[0;31m#====================================================\u001b[0m\u001b[0;34m\u001b[0m\u001b[0;34m\u001b[0m\u001b[0;34m\u001b[0m\u001b[0m\n",
      "\u001b[0;32m<ipython-input-1-36b12b5b4f8a>\u001b[0m in \u001b[0;36mpublish_Fake_Sensor_Values_to_MQTT\u001b[0;34m()\u001b[0m\n\u001b[1;32m     64\u001b[0m                 \u001b[0mHumidity_Data\u001b[0m \u001b[0;34m=\u001b[0m \u001b[0;34m{\u001b[0m\u001b[0;34m}\u001b[0m\u001b[0;34m\u001b[0m\u001b[0;34m\u001b[0m\u001b[0m\n\u001b[1;32m     65\u001b[0m                 \u001b[0mHumidity_Data\u001b[0m\u001b[0;34m[\u001b[0m\u001b[0;34m'no_gateway'\u001b[0m\u001b[0;34m]\u001b[0m \u001b[0;34m=\u001b[0m \u001b[0;34m\"danova_dummy1\"\u001b[0m\u001b[0;34m\u001b[0m\u001b[0;34m\u001b[0m\u001b[0m\n\u001b[0;32m---> 66\u001b[0;31m                 \u001b[0mHumadity_Data\u001b[0m\u001b[0;34m[\u001b[0m\u001b[0;34m'id_gateway'\u001b[0m\u001b[0;34m]\u001b[0m \u001b[0;34m=\u001b[0m \u001b[0;34m\"001\"\u001b[0m\u001b[0;34m\u001b[0m\u001b[0;34m\u001b[0m\u001b[0m\n\u001b[0m\u001b[1;32m     67\u001b[0m                 \u001b[0mHumadity_Data\u001b[0m\u001b[0;34m[\u001b[0m\u001b[0;34m'no_mc'\u001b[0m\u001b[0;34m]\u001b[0m \u001b[0;34m=\u001b[0m \u001b[0;34m\"01\"\u001b[0m\u001b[0;34m\u001b[0m\u001b[0;34m\u001b[0m\u001b[0m\n\u001b[1;32m     68\u001b[0m                 \u001b[0mHumadity_Data\u001b[0m\u001b[0;34m[\u001b[0m\u001b[0;34m'id_mc'\u001b[0m\u001b[0;34m]\u001b[0m \u001b[0;34m=\u001b[0m \u001b[0;34m\"danova_01.01\"\u001b[0m\u001b[0;34m\u001b[0m\u001b[0;34m\u001b[0m\u001b[0m\n",
      "\u001b[0;31mNameError\u001b[0m: name 'Humadity_Data' is not defined"
     ]
    },
    {
     "name": "stderr",
     "output_type": "stream",
     "text": [
      "Exception in thread Thread-4:\n",
      "Traceback (most recent call last):\n",
      "  File \"/usr/lib/python3.6/threading.py\", line 916, in _bootstrap_inner\n",
      "    self.run()\n",
      "  File \"/usr/lib/python3.6/threading.py\", line 1182, in run\n",
      "    self.function(*self.args, **self.kwargs)\n",
      "  File \"<ipython-input-1-36b12b5b4f8a>\", line 66, in publish_Fake_Sensor_Values_to_MQTT\n",
      "    Humadity_Data['id_gateway'] = \"001\"\n",
      "NameError: name 'Humadity_Data' is not defined\n",
      "\n",
      "Exception in thread Thread-5:\n",
      "Traceback (most recent call last):\n",
      "  File \"/usr/lib/python3.6/threading.py\", line 916, in _bootstrap_inner\n",
      "    self.run()\n",
      "  File \"/usr/lib/python3.6/threading.py\", line 1182, in run\n",
      "    self.function(*self.args, **self.kwargs)\n",
      "  File \"<ipython-input-1-36b12b5b4f8a>\", line 66, in publish_Fake_Sensor_Values_to_MQTT\n",
      "    Humadity_Data['id_gateway'] = \"001\"\n",
      "NameError: name 'Humadity_Data' is not defined\n",
      "\n",
      "Exception in thread Thread-6:\n",
      "Traceback (most recent call last):\n",
      "  File \"/usr/lib/python3.6/threading.py\", line 916, in _bootstrap_inner\n",
      "    self.run()\n",
      "  File \"/usr/lib/python3.6/threading.py\", line 1182, in run\n",
      "    self.function(*self.args, **self.kwargs)\n",
      "  File \"<ipython-input-1-36b12b5b4f8a>\", line 66, in publish_Fake_Sensor_Values_to_MQTT\n",
      "    Humadity_Data['id_gateway'] = \"001\"\n",
      "NameError: name 'Humadity_Data' is not defined\n",
      "\n",
      "Exception in thread Thread-7:\n",
      "Traceback (most recent call last):\n",
      "  File \"/usr/lib/python3.6/threading.py\", line 916, in _bootstrap_inner\n",
      "    self.run()\n",
      "  File \"/usr/lib/python3.6/threading.py\", line 1182, in run\n",
      "    self.function(*self.args, **self.kwargs)\n",
      "  File \"<ipython-input-1-36b12b5b4f8a>\", line 66, in publish_Fake_Sensor_Values_to_MQTT\n",
      "    Humadity_Data['id_gateway'] = \"001\"\n",
      "NameError: name 'Humadity_Data' is not defined\n",
      "\n",
      "Exception in thread Thread-8:\n",
      "Traceback (most recent call last):\n",
      "  File \"/usr/lib/python3.6/threading.py\", line 916, in _bootstrap_inner\n",
      "    self.run()\n",
      "  File \"/usr/lib/python3.6/threading.py\", line 1182, in run\n",
      "    self.function(*self.args, **self.kwargs)\n",
      "  File \"<ipython-input-1-36b12b5b4f8a>\", line 66, in publish_Fake_Sensor_Values_to_MQTT\n",
      "    Humadity_Data['id_gateway'] = \"001\"\n",
      "NameError: name 'Humadity_Data' is not defined\n",
      "\n",
      "Exception in thread Thread-9:\n",
      "Traceback (most recent call last):\n",
      "  File \"/usr/lib/python3.6/threading.py\", line 916, in _bootstrap_inner\n",
      "    self.run()\n",
      "  File \"/usr/lib/python3.6/threading.py\", line 1182, in run\n",
      "    self.function(*self.args, **self.kwargs)\n",
      "  File \"<ipython-input-1-36b12b5b4f8a>\", line 66, in publish_Fake_Sensor_Values_to_MQTT\n",
      "    Humadity_Data['id_gateway'] = \"001\"\n",
      "NameError: name 'Humadity_Data' is not defined\n",
      "\n",
      "Exception in thread Thread-10:\n",
      "Traceback (most recent call last):\n",
      "  File \"/usr/lib/python3.6/threading.py\", line 916, in _bootstrap_inner\n",
      "    self.run()\n",
      "  File \"/usr/lib/python3.6/threading.py\", line 1182, in run\n",
      "    self.function(*self.args, **self.kwargs)\n",
      "  File \"<ipython-input-1-36b12b5b4f8a>\", line 66, in publish_Fake_Sensor_Values_to_MQTT\n",
      "    Humadity_Data['id_gateway'] = \"001\"\n",
      "NameError: name 'Humadity_Data' is not defined\n",
      "\n",
      "Exception in thread Thread-11:\n",
      "Traceback (most recent call last):\n",
      "  File \"/usr/lib/python3.6/threading.py\", line 916, in _bootstrap_inner\n",
      "    self.run()\n",
      "  File \"/usr/lib/python3.6/threading.py\", line 1182, in run\n",
      "    self.function(*self.args, **self.kwargs)\n",
      "  File \"<ipython-input-1-36b12b5b4f8a>\", line 66, in publish_Fake_Sensor_Values_to_MQTT\n",
      "    Humadity_Data['id_gateway'] = \"001\"\n",
      "NameError: name 'Humadity_Data' is not defined\n",
      "\n",
      "Exception in thread Thread-12:\n",
      "Traceback (most recent call last):\n",
      "  File \"/usr/lib/python3.6/threading.py\", line 916, in _bootstrap_inner\n",
      "    self.run()\n",
      "  File \"/usr/lib/python3.6/threading.py\", line 1182, in run\n",
      "    self.function(*self.args, **self.kwargs)\n",
      "  File \"<ipython-input-1-36b12b5b4f8a>\", line 66, in publish_Fake_Sensor_Values_to_MQTT\n",
      "    Humadity_Data['id_gateway'] = \"001\"\n",
      "NameError: name 'Humadity_Data' is not defined\n",
      "\n",
      "Exception in thread Thread-13:\n",
      "Traceback (most recent call last):\n",
      "  File \"/usr/lib/python3.6/threading.py\", line 916, in _bootstrap_inner\n",
      "    self.run()\n",
      "  File \"/usr/lib/python3.6/threading.py\", line 1182, in run\n",
      "    self.function(*self.args, **self.kwargs)\n",
      "  File \"<ipython-input-1-36b12b5b4f8a>\", line 66, in publish_Fake_Sensor_Values_to_MQTT\n",
      "    Humadity_Data['id_gateway'] = \"001\"\n",
      "NameError: name 'Humadity_Data' is not defined\n",
      "\n",
      "Exception in thread Thread-14:\n",
      "Traceback (most recent call last):\n",
      "  File \"/usr/lib/python3.6/threading.py\", line 916, in _bootstrap_inner\n",
      "    self.run()\n",
      "  File \"/usr/lib/python3.6/threading.py\", line 1182, in run\n",
      "    self.function(*self.args, **self.kwargs)\n",
      "  File \"<ipython-input-1-36b12b5b4f8a>\", line 66, in publish_Fake_Sensor_Values_to_MQTT\n",
      "    Humadity_Data['id_gateway'] = \"001\"\n",
      "NameError: name 'Humadity_Data' is not defined\n",
      "\n",
      "Exception in thread Thread-15:\n",
      "Traceback (most recent call last):\n",
      "  File \"/usr/lib/python3.6/threading.py\", line 916, in _bootstrap_inner\n",
      "    self.run()\n",
      "  File \"/usr/lib/python3.6/threading.py\", line 1182, in run\n",
      "    self.function(*self.args, **self.kwargs)\n",
      "  File \"<ipython-input-1-36b12b5b4f8a>\", line 66, in publish_Fake_Sensor_Values_to_MQTT\n",
      "    Humadity_Data['id_gateway'] = \"001\"\n",
      "NameError: name 'Humadity_Data' is not defined\n",
      "\n",
      "Exception in thread Thread-16:\n",
      "Traceback (most recent call last):\n",
      "  File \"/usr/lib/python3.6/threading.py\", line 916, in _bootstrap_inner\n",
      "    self.run()\n",
      "  File \"/usr/lib/python3.6/threading.py\", line 1182, in run\n",
      "    self.function(*self.args, **self.kwargs)\n",
      "  File \"<ipython-input-1-36b12b5b4f8a>\", line 66, in publish_Fake_Sensor_Values_to_MQTT\n",
      "    Humadity_Data['id_gateway'] = \"001\"\n",
      "NameError: name 'Humadity_Data' is not defined\n",
      "\n",
      "Exception in thread Thread-17:\n",
      "Traceback (most recent call last):\n",
      "  File \"/usr/lib/python3.6/threading.py\", line 916, in _bootstrap_inner\n",
      "    self.run()\n",
      "  File \"/usr/lib/python3.6/threading.py\", line 1182, in run\n",
      "    self.function(*self.args, **self.kwargs)\n",
      "  File \"<ipython-input-1-36b12b5b4f8a>\", line 66, in publish_Fake_Sensor_Values_to_MQTT\n",
      "    Humadity_Data['id_gateway'] = \"001\"\n",
      "NameError: name 'Humadity_Data' is not defined\n",
      "\n",
      "Exception in thread Thread-18:\n",
      "Traceback (most recent call last):\n",
      "  File \"/usr/lib/python3.6/threading.py\", line 916, in _bootstrap_inner\n",
      "    self.run()\n",
      "  File \"/usr/lib/python3.6/threading.py\", line 1182, in run\n",
      "    self.function(*self.args, **self.kwargs)\n",
      "  File \"<ipython-input-1-36b12b5b4f8a>\", line 66, in publish_Fake_Sensor_Values_to_MQTT\n",
      "    Humadity_Data['id_gateway'] = \"001\"\n",
      "NameError: name 'Humadity_Data' is not defined\n",
      "\n",
      "Exception in thread Thread-19:\n",
      "Traceback (most recent call last):\n",
      "  File \"/usr/lib/python3.6/threading.py\", line 916, in _bootstrap_inner\n",
      "    self.run()\n",
      "  File \"/usr/lib/python3.6/threading.py\", line 1182, in run\n",
      "    self.function(*self.args, **self.kwargs)\n",
      "  File \"<ipython-input-1-36b12b5b4f8a>\", line 66, in publish_Fake_Sensor_Values_to_MQTT\n",
      "    Humadity_Data['id_gateway'] = \"001\"\n",
      "NameError: name 'Humadity_Data' is not defined\n",
      "\n",
      "Exception in thread Thread-20:\n",
      "Traceback (most recent call last):\n",
      "  File \"/usr/lib/python3.6/threading.py\", line 916, in _bootstrap_inner\n",
      "    self.run()\n",
      "  File \"/usr/lib/python3.6/threading.py\", line 1182, in run\n",
      "    self.function(*self.args, **self.kwargs)\n",
      "  File \"<ipython-input-1-36b12b5b4f8a>\", line 66, in publish_Fake_Sensor_Values_to_MQTT\n",
      "    Humadity_Data['id_gateway'] = \"001\"\n",
      "NameError: name 'Humadity_Data' is not defined\n",
      "\n",
      "Exception in thread Thread-21:\n",
      "Traceback (most recent call last):\n",
      "  File \"/usr/lib/python3.6/threading.py\", line 916, in _bootstrap_inner\n",
      "    self.run()\n",
      "  File \"/usr/lib/python3.6/threading.py\", line 1182, in run\n",
      "    self.function(*self.args, **self.kwargs)\n",
      "  File \"<ipython-input-1-36b12b5b4f8a>\", line 66, in publish_Fake_Sensor_Values_to_MQTT\n",
      "    Humadity_Data['id_gateway'] = \"001\"\n",
      "NameError: name 'Humadity_Data' is not defined\n",
      "\n"
     ]
    }
   ],
   "source": []
  },
  {
   "cell_type": "code",
   "execution_count": null,
   "metadata": {},
   "outputs": [],
   "source": []
  }
 ],
 "metadata": {
  "kernelspec": {
   "display_name": "Python 3",
   "language": "python",
   "name": "python3"
  },
  "language_info": {
   "codemirror_mode": {
    "name": "ipython",
    "version": 3
   },
   "file_extension": ".py",
   "mimetype": "text/x-python",
   "name": "python",
   "nbconvert_exporter": "python",
   "pygments_lexer": "ipython3",
   "version": "3.6.9"
  }
 },
 "nbformat": 4,
 "nbformat_minor": 4
}
